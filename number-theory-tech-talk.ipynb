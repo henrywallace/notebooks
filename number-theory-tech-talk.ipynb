{
 "cells": [
  {
   "cell_type": "markdown",
   "metadata": {
    "slideshow": {
     "slide_type": "slide"
    }
   },
   "source": [
    "I've learned from the following:\n",
    "- _An Introduction to the Theory of Numbers_ by Hardy\n",
    "- _Analytic Number Theory_ by Apostol\n",
    "- https://wstein.org/ent/ent.pdf\n",
    "- https://www.akalin.com/intro-primality-testing\n",
    "- https://math.stackexchange.com/a/2886\n",
    "- http://drona.csa.iisc.ernet.in/~arpita/Cryptography15/CT8.pdf"
   ]
  },
  {
   "cell_type": "markdown",
   "metadata": {
    "slideshow": {
     "slide_type": "slide"
    }
   },
   "source": [
    "# Crash Course into Number Theory"
   ]
  },
  {
   "cell_type": "markdown",
   "metadata": {},
   "source": [
    "> Mathematics is the queen of the sciences and number theory is the queen of mathematics —Gauss"
   ]
  },
  {
   "cell_type": "markdown",
   "metadata": {
    "slideshow": {
     "slide_type": "slide"
    }
   },
   "source": [
    "## Prime numbers"
   ]
  },
  {
   "cell_type": "markdown",
   "metadata": {},
   "source": [
    "We say that $a$ divides another number $b$ whenever there is another number $c$ such that $bc = a$.\n",
    "\n",
    "We denote it $a \\mid b$, and call $a$ a \"divisor\" of $b$."
   ]
  },
  {
   "cell_type": "markdown",
   "metadata": {
    "slideshow": {
     "slide_type": "fragment"
    }
   },
   "source": [
    "For example, $6 \\mid 12$ since $6 \\cdot 2 = 12$.\n",
    "\n",
    "But $7 \\not\\mid 12$ since there is no such natural number $c$ such that $7c = 12$."
   ]
  },
  {
   "cell_type": "markdown",
   "metadata": {
    "slideshow": {
     "slide_type": "fragment"
    }
   },
   "source": [
    "A prime number is a number $p > 1$ whose only divisors are $1$ and itself."
   ]
  },
  {
   "cell_type": "markdown",
   "metadata": {
    "slideshow": {
     "slide_type": "fragment"
    }
   },
   "source": [
    "We call numbers that aren't prime, composite.\n",
    "\n",
    "For example, these are prime: $2, 3, 5, 7, 11, 13$. And these are composite: $4, 6, 8, 9, 10, \\ldots, 561$."
   ]
  },
  {
   "cell_type": "markdown",
   "metadata": {
    "slideshow": {
     "slide_type": "slide"
    }
   },
   "source": [
    "Every number has a factorization into primes!\n",
    "\n",
    "If $n$ is prime, then there's nothing to prove. Otherwise, by definition, $n$ has at least one divisor between $1$ and $n$, inclusive. Choose the least divisor $d$ among them.\n",
    "\n",
    "We see that $d$ must be prime, for otherwise we would contradict its minimality. Since $k \\mid d$ implies $k \\mid n$.\n",
    "\n",
    "We can now proceed recursively until $n$ is completely factored!"
   ]
  },
  {
   "cell_type": "markdown",
   "metadata": {
    "slideshow": {
     "slide_type": "slide"
    }
   },
   "source": [
    "Why don't we call $1$ prime? Well, it turns out that every number has a unique factorization into primes!\n",
    "\n",
    "For example $12 = 2\\cdot2\\cdot3$, and $561 = 3\\cdot11\\cdot17$.\n",
    "\n",
    "And the unique part of that definition relies on $1$ not being prime.\n",
    "\n",
    "If $1$ was prime then we could have both $12 = 1\\cdot2^2\\cdot3$ and $12 = 1^2\\cdot2^2\\cdot3$."
   ]
  },
  {
   "cell_type": "markdown",
   "metadata": {
    "slideshow": {
     "slide_type": "slide"
    }
   },
   "source": [
    "## Simple primality checker"
   ]
  },
  {
   "cell_type": "markdown",
   "metadata": {
    "slideshow": {
     "slide_type": "-"
    }
   },
   "source": [
    "Here's a naive way to test if a number is prime."
   ]
  },
  {
   "cell_type": "code",
   "execution_count": 1,
   "metadata": {
    "collapsed": true,
    "slideshow": {
     "slide_type": "-"
    }
   },
   "outputs": [],
   "source": [
    "def is_prime_naive(n):\n",
    "    if n < 2:\n",
    "        return False\n",
    "    \n",
    "    for d in range(2, n):        \n",
    "        if n % d == 0:\n",
    "            return False\n",
    "        \n",
    "    return True"
   ]
  },
  {
   "cell_type": "code",
   "execution_count": 2,
   "metadata": {
    "slideshow": {
     "slide_type": "fragment"
    }
   },
   "outputs": [
    {
     "data": {
      "text/plain": [
       "[2, 3, 5, 7, 11, 13, 17, 19, 23, 29, 31]"
      ]
     },
     "execution_count": 2,
     "metadata": {},
     "output_type": "execute_result"
    }
   ],
   "source": [
    "[n for n in range(2, 32)\n",
    " if is_prime_naive(n)]"
   ]
  },
  {
   "cell_type": "code",
   "execution_count": 3,
   "metadata": {
    "slideshow": {
     "slide_type": "fragment"
    }
   },
   "outputs": [
    {
     "name": "stdout",
     "output_type": "stream",
     "text": [
      "CPU times: user 641 ms, sys: 9.12 ms, total: 650 ms\n",
      "Wall time: 686 ms\n"
     ]
    }
   ],
   "source": [
    "%time _ = [is_prime_naive(n) for n in range(1, 10**4)]"
   ]
  },
  {
   "cell_type": "markdown",
   "metadata": {
    "slideshow": {
     "slide_type": "slide"
    }
   },
   "source": [
    "Hmm.. We can actually be clever here!"
   ]
  },
  {
   "cell_type": "markdown",
   "metadata": {
    "slideshow": {
     "slide_type": "fragment"
    }
   },
   "source": [
    "What's the largest possible divisor $d$ of $n$ we could reach in the loop?"
   ]
  },
  {
   "cell_type": "markdown",
   "metadata": {
    "slideshow": {
     "slide_type": "fragment"
    }
   },
   "source": [
    "If we had that, then we could write:"
   ]
  },
  {
   "cell_type": "code",
   "execution_count": 4,
   "metadata": {
    "collapsed": true,
    "slideshow": {
     "slide_type": "-"
    }
   },
   "outputs": [],
   "source": [
    "def is_prime_faster(n, largest_divisor):\n",
    "    if n < 2:\n",
    "        return False\n",
    "    \n",
    "    for d in range(2, largest_divisor + 1):\n",
    "        if n % d == 0:\n",
    "            return False\n",
    "        \n",
    "    return True"
   ]
  },
  {
   "cell_type": "markdown",
   "metadata": {
    "slideshow": {
     "slide_type": "slide"
    }
   },
   "source": [
    "Well, the smallest divisor $d \\ge 2$ certainly yields the largest divisor as its quotient, $d\\cdot D = n$."
   ]
  },
  {
   "cell_type": "markdown",
   "metadata": {
    "slideshow": {
     "slide_type": "fragment"
    }
   },
   "source": [
    "But $D \\equiv 0 \\pmod n$ implies $d \\equiv 0 \\pmod n$, so that in the loop we would have first returned `False` before ever reaching $D$."
   ]
  },
  {
   "cell_type": "markdown",
   "metadata": {
    "slideshow": {
     "slide_type": "fragment"
    }
   },
   "source": [
    "And similarly the next largest and next smallest divisor fall prey to the same early stop. And so on, until we meet at $d = D$, or $d = \\sqrt{n}$.\n",
    "\n",
    "So, the largest divisor of $n$ is at most $\\sqrt{n}$."
   ]
  },
  {
   "cell_type": "code",
   "execution_count": 5,
   "metadata": {
    "collapsed": true
   },
   "outputs": [],
   "source": [
    "from math import sqrt\n",
    "\n",
    "def is_prime_faster(n):\n",
    "    if n < 2 or n % 2 == 0:\n",
    "        return False\n",
    "    \n",
    "    for d in range(3, int(sqrt(n)) + 1, 2):\n",
    "        if n % d == 0:\n",
    "            return False\n",
    "    return True"
   ]
  },
  {
   "cell_type": "code",
   "execution_count": 6,
   "metadata": {
    "slideshow": {
     "slide_type": "fragment"
    }
   },
   "outputs": [
    {
     "name": "stdout",
     "output_type": "stream",
     "text": [
      "CPU times: user 10.7 ms, sys: 1.13 ms, total: 11.8 ms\n",
      "Wall time: 11.7 ms\n"
     ]
    }
   ],
   "source": [
    "%time _ = [is_prime_faster(n) for n in range(2, 10**4)]"
   ]
  },
  {
   "cell_type": "markdown",
   "metadata": {
    "slideshow": {
     "slide_type": "slide"
    }
   },
   "source": [
    "## Distribution of primes"
   ]
  },
  {
   "cell_type": "markdown",
   "metadata": {
    "slideshow": {
     "slide_type": "-"
    }
   },
   "source": [
    "How are the primes distributed? Are they more bunched up in some areas rather than others?"
   ]
  },
  {
   "cell_type": "code",
   "execution_count": 7,
   "metadata": {
    "slideshow": {
     "slide_type": "fragment"
    }
   },
   "outputs": [
    {
     "data": {
      "image/png": "[encoded data removed]",
      "text/plain": [
       "<matplotlib.figure.Figure at 0x10df8f748>"
      ]
     },
     "metadata": {},
     "output_type": "display_data"
    }
   ],
   "source": [
    "from random import sample\n",
    "import matplotlib.pyplot as plt\n",
    "%matplotlib inline\n",
    "\n",
    "primes = [n for n in range(2, 10**6) if is_prime_faster(n)]\n",
    "plt.hist(primes, color='lightsalmon')\n",
    "plt.show()"
   ]
  },
  {
   "cell_type": "markdown",
   "metadata": {
    "slideshow": {
     "slide_type": "slide"
    }
   },
   "source": [
    "In fact, it turns out that for any interval $[1, n]$ about $n / \\log n$ of them are prime. This is called the prime number of theorem."
   ]
  },
  {
   "cell_type": "code",
   "execution_count": 8,
   "metadata": {
    "slideshow": {
     "slide_type": "fragment"
    }
   },
   "outputs": [
    {
     "data": {
      "image/png": "[encoded data removed]",
      "text/plain": [
       "<matplotlib.figure.Figure at 0x10fb8b2b0>"
      ]
     },
     "metadata": {},
     "output_type": "display_data"
    }
   ],
   "source": [
    "from math import log\n",
    "\n",
    "props = []\n",
    "limit = []\n",
    "num_prime = 0\n",
    "for n in range(1, 128):\n",
    "    if is_prime_faster(n):\n",
    "        num_prime += 1\n",
    "    props.append(num_prime / n)\n",
    "    limit.append(1 / log(n + 1))\n",
    "\n",
    "plt.plot(props)\n",
    "plt.plot(limit)\n",
    "plt.ylim(0, 1)\n",
    "plt.title('distribution of primes', fontsize=16)\n",
    "plt.show()"
   ]
  },
  {
   "cell_type": "markdown",
   "metadata": {
    "slideshow": {
     "slide_type": "slide"
    }
   },
   "source": [
    "# Unique Representation of Primes"
   ]
  },
  {
   "cell_type": "markdown",
   "metadata": {
    "slideshow": {
     "slide_type": "-"
    }
   },
   "source": [
    "*Lemma 1*: If $p$ is prime and $p \\mid ab$, then either $p \\mid a$ or $p \\mid b$.\n",
    "\n",
    "We can prove this with the Euclidean algorithm. For now, we elide it for clarity, and assume the lemma."
   ]
  },
  {
   "cell_type": "markdown",
   "metadata": {
    "slideshow": {
     "slide_type": "slide"
    }
   },
   "source": [
    "*Theorem 2:* Every number has a unique factorization into primes.\n",
    "\n",
    "Suppose there exist two unique factorizations for some number\n",
    "\n",
    "$$a = p_1^{a_1}p_2^{a_2} \\cdots p_n^{a_n} =  q_1^{b_1}q_2^{b_2} \\cdots q_k^{b_k}$$"
   ]
  },
  {
   "cell_type": "markdown",
   "metadata": {
    "slideshow": {
     "slide_type": "fragment"
    }
   },
   "source": [
    "Since every $p_i \\mid a$, we have $p_i \\mid q_1^{b_1} \\cdots q_k^{b_k}$ for every $i$, and similarly $q_j \\mid p_1^{a_1} \\cdots p_n^{a_n}$ for every $j$."
   ]
  },
  {
   "cell_type": "markdown",
   "metadata": {
    "slideshow": {
     "slide_type": "fragment"
    }
   },
   "source": [
    "Since primes certainly can't divide each other, by *Lemma 1* we have that each $p$ must divide some and specifically one $q$. In this way for every $p$ there is some corresponding $q$, and conversely so. So, $n = k$."
   ]
  },
  {
   "cell_type": "markdown",
   "metadata": {
    "slideshow": {
     "slide_type": "fragment"
    }
   },
   "source": [
    "We have now shown that their primes are the same. Let's now consider what would happen if the powers were different! Suppose some $a_i \\ne b_j$. Without loss of generality we can say $a_i < b_i$.\n",
    "\n",
    "$$\\frac{a}{p_i^{a_i}} =  p_1^{b_n} \\cdots p_i^{b_i - a_i} \\cdots p_n^{b_n} = p_1^{a_1} \\cdots p_{i-1}^{a_{i-1}}p_{i+1}^{a_{i+1}}  \\cdots p_m^{a_m} $$\n",
    "\n",
    "So that $p_i$ divides one but not the other. This is a contradiction.\n",
    "\n",
    "This is called the fundamental theorem of arithmetic."
   ]
  },
  {
   "cell_type": "markdown",
   "metadata": {
    "slideshow": {
     "slide_type": "slide"
    }
   },
   "source": [
    "We can now see why we don't allow $1$ to be a prime. If it was, then one could use any exponent, and so have \"different\" factorizations for any natural number. So, we consider to be the first prime $2$."
   ]
  },
  {
   "cell_type": "markdown",
   "metadata": {
    "slideshow": {
     "slide_type": "slide"
    }
   },
   "source": [
    "Since we know that primes have exactly one factorization, if we have any \"correct\" factorizer function, we know that we have found \"the\" factorization for the number, regardless of how we found it.\n",
    "\n",
    "Let's write a function that factorizes for us."
   ]
  },
  {
   "cell_type": "code",
   "execution_count": 9,
   "metadata": {
    "collapsed": true
   },
   "outputs": [],
   "source": [
    "from collections import Counter\n",
    "\n",
    "def factorize(n):\n",
    "    factors = Counter()\n",
    "    \n",
    "    for d in range(2, int(sqrt(n)) + 1):\n",
    "        while n % d == 0:\n",
    "            n //= d\n",
    "            factors[d] += 1\n",
    "            \n",
    "    if n > 1:\n",
    "        factors[n] += 1\n",
    "\n",
    "    return factors"
   ]
  },
  {
   "cell_type": "code",
   "execution_count": 10,
   "metadata": {},
   "outputs": [
    {
     "data": {
      "text/plain": [
       "Counter({3: 1, 11: 1, 17: 1})"
      ]
     },
     "execution_count": 10,
     "metadata": {},
     "output_type": "execute_result"
    }
   ],
   "source": [
    "factorize(561)"
   ]
  },
  {
   "cell_type": "code",
   "execution_count": 11,
   "metadata": {},
   "outputs": [
    {
     "data": {
      "text/plain": [
       "Counter()"
      ]
     },
     "execution_count": 11,
     "metadata": {},
     "output_type": "execute_result"
    }
   ],
   "source": [
    "factorize(1)"
   ]
  },
  {
   "cell_type": "markdown",
   "metadata": {},
   "source": [
    "Interestingly, we can see that we can represent natural numbers on a infinite dimensional vector space.\n",
    "\n",
    "So that $561 = (0, 1, 0, 0, 1, 0, 0, 1, \\ldots)$.\n",
    "\n",
    "And it follows that primes numbers are those points in this coordinate system within a hyper sphere of radius one around the origin.\n",
    "\n",
    "And perhaps even more interesting, we can represent rational and some algebraic numbers in this way! In this way,  we are starting on a road toward some hard-core algebraic number theory and Adéle rings. We won't go there now."
   ]
  },
  {
   "cell_type": "markdown",
   "metadata": {},
   "source": [
    "As a quick aside into curiosity, let's look at the number of unique factors."
   ]
  },
  {
   "cell_type": "code",
   "execution_count": 47,
   "metadata": {},
   "outputs": [
    {
     "data": {
      "text/plain": [
       "Counter({7: 2, 839: 2, 4051: 2})"
      ]
     },
     "execution_count": 47,
     "metadata": {},
     "output_type": "execute_result"
    }
   ],
   "source": [
    "factorize(23791523*7*839*4051)"
   ]
  },
  {
   "cell_type": "code",
   "execution_count": 12,
   "metadata": {},
   "outputs": [
    {
     "data": {
      "image/png": "[encoded data removed]",
      "text/plain": [
       "<matplotlib.figure.Figure at 0x10c9c1ba8>"
      ]
     },
     "metadata": {},
     "output_type": "display_data"
    }
   ],
   "source": [
    "import numpy as np\n",
    "\n",
    "ns = np.arange(1, 64)\n",
    "num_unique = [len(factorize(n)) for n in ns]\n",
    "plt.plot(num_unique, '.')\n",
    "plt.yticks(range(8))\n",
    "plt.ylabel('num unique factors', fontsize=16)\n",
    "plt.grid(True, alpha=0.5, axis='y')\n",
    "plt.show()"
   ]
  },
  {
   "cell_type": "markdown",
   "metadata": {},
   "source": [
    "We just started to discover the Hardy–Ramanujan theorem, that the number of unique factors $\\omega(n) \\to \\log \\log n$. So that most numbers have the same number of distinct prime factors."
   ]
  },
  {
   "cell_type": "markdown",
   "metadata": {
    "slideshow": {
     "slide_type": "slide"
    }
   },
   "source": [
    "## Coprimes"
   ]
  },
  {
   "cell_type": "markdown",
   "metadata": {},
   "source": [
    "We can write $n = \\prod p^a $ and $k = \\prod p^b $, to run through the same set of primes, where some $a$ or $b$ can be $0$.\n",
    "\n",
    "From this we can see that the greatest common divisor to both $n$ and $k$ is simply $\\prod p^{\\min(a, b)}$.\n",
    "\n",
    "And similarly, the least common multiple is $\\prod p^{\\max(a, b)}$.\n",
    "\n",
    "For example with $12 = 2^2\\cdot3^1$ and $9 = 3^2$, $\\mathrm{gcd}(12, 9) = 3^1$, and $\\mathrm{lcm}(12, 9) = 2^2\\cdot3^2$.\n",
    "\n",
    "We can then see that $\\mathrm{lcm}(n, k) = \\frac{n k}{\\gcd(n, k)}$, because $a + b - \\max(a, b) = \\min(a, b)$."
   ]
  },
  {
   "cell_type": "markdown",
   "metadata": {},
   "source": [
    "How many divisors does a number have?\n",
    "\n",
    "Given the factorization for some number $n$, we can construct divisors by using its \"bag of primes\".\n",
    "\n",
    "With $n = \\prod p^a$, we can choose anywhere from $0$ to $a$, inclusive, for each prime to construct some new divisor $k$.\n",
    "\n",
    "So, $n$ has $\\prod(1 + a)$ divisors"
   ]
  },
  {
   "cell_type": "code",
   "execution_count": 48,
   "metadata": {
    "collapsed": true
   },
   "outputs": [],
   "source": [
    "def num_divisors(n):\n",
    "    factors = factorize(n)\n",
    "    num = 1\n",
    "    for a in factors.values():\n",
    "        num *= (a + 1)\n",
    "    return num"
   ]
  },
  {
   "cell_type": "code",
   "execution_count": 49,
   "metadata": {},
   "outputs": [
    {
     "data": {
      "text/plain": [
       "4"
      ]
     },
     "execution_count": 49,
     "metadata": {},
     "output_type": "execute_result"
    }
   ],
   "source": [
    "n = 2018\n",
    "num_divisors(n)"
   ]
  },
  {
   "cell_type": "code",
   "execution_count": 15,
   "metadata": {},
   "outputs": [
    {
     "data": {
      "text/plain": [
       "4"
      ]
     },
     "execution_count": 15,
     "metadata": {},
     "output_type": "execute_result"
    }
   ],
   "source": [
    "sum(n % d == 0 for d in range(1, n+1))"
   ]
  },
  {
   "cell_type": "markdown",
   "metadata": {},
   "source": [
    "How does the progression on the number of divisors look?"
   ]
  },
  {
   "cell_type": "code",
   "execution_count": 16,
   "metadata": {},
   "outputs": [
    {
     "data": {
      "image/png": "[encoded data removed]",
      "text/plain": [
       "<matplotlib.figure.Figure at 0x10c9efd68>"
      ]
     },
     "metadata": {},
     "output_type": "display_data"
    }
   ],
   "source": [
    "ns = np.arange(1, 64)\n",
    "num_unique = [num_divisors(n) for n in ns]\n",
    "plt.plot(num_unique)\n",
    "plt.yticks(range(1, 12))\n",
    "plt.ylabel('num divisors', fontsize=16)\n",
    "plt.grid(True, alpha=0.5, axis='y')\n",
    "plt.show()"
   ]
  },
  {
   "cell_type": "markdown",
   "metadata": {},
   "source": [
    "And what about the density of divisors per $n$?"
   ]
  },
  {
   "cell_type": "code",
   "execution_count": 17,
   "metadata": {},
   "outputs": [
    {
     "data": {
      "image/png": "[encoded data removed]",
      "text/plain": [
       "<matplotlib.figure.Figure at 0x10fca87b8>"
      ]
     },
     "metadata": {},
     "output_type": "display_data"
    }
   ],
   "source": [
    "ns = np.arange(1, 128)\n",
    "num_unique = [num_divisors(n)/n for n in ns]\n",
    "plt.plot(num_unique)\n",
    "plt.yticks(np.arange(0, 1, 0.1))\n",
    "plt.title('density of divisors', fontsize=16)\n",
    "plt.grid(True, alpha=0.5, axis='y')\n",
    "plt.show()"
   ]
  },
  {
   "cell_type": "markdown",
   "metadata": {},
   "source": [
    "We'll consider it a little out of scope, but we can rigorously prove that the number of divisors becomes \"almost\" vanishingly rare."
   ]
  },
  {
   "cell_type": "markdown",
   "metadata": {},
   "source": [
    "We call two numbers coprime whenever $\\gcd(a, b) = 1$.\n",
    "\n",
    "And we denote the number of divisors coprime to some $n$ by the function $\\varphi(n)$."
   ]
  },
  {
   "cell_type": "code",
   "execution_count": 18,
   "metadata": {
    "collapsed": true
   },
   "outputs": [],
   "source": [
    "from math import gcd\n",
    "\n",
    "def coprime(n):\n",
    "    return [d for d in range(n) if gcd(n, d) == 1]"
   ]
  },
  {
   "cell_type": "code",
   "execution_count": 19,
   "metadata": {},
   "outputs": [
    {
     "data": {
      "text/plain": [
       "[1, 3, 5, 7, 9, 11, 13, 15]"
      ]
     },
     "execution_count": 19,
     "metadata": {},
     "output_type": "execute_result"
    }
   ],
   "source": [
    "coprime(16)"
   ]
  },
  {
   "cell_type": "code",
   "execution_count": 20,
   "metadata": {},
   "outputs": [
    {
     "data": {
      "text/plain": [
       "[1, 2, 3, 4, 5, 6, 7, 8, 9, 10, 11, 12, 13, 14, 15, 16]"
      ]
     },
     "execution_count": 20,
     "metadata": {},
     "output_type": "execute_result"
    }
   ],
   "source": [
    "coprime(17)"
   ]
  },
  {
   "cell_type": "markdown",
   "metadata": {},
   "source": [
    "*Lemma 3* For all $p$ we have $\\varphi(p) = p - 1$, by the definition of being prime."
   ]
  },
  {
   "cell_type": "code",
   "execution_count": 21,
   "metadata": {},
   "outputs": [
    {
     "data": {
      "text/plain": [
       "True"
      ]
     },
     "execution_count": 21,
     "metadata": {},
     "output_type": "execute_result"
    }
   ],
   "source": [
    "all(len(coprime(n)) == n - 1\n",
    "    for n in range(1000)\n",
    "    if is_prime_faster(n))"
   ]
  },
  {
   "cell_type": "markdown",
   "metadata": {},
   "source": [
    "But it's stranger when considering all numbers:"
   ]
  },
  {
   "cell_type": "code",
   "execution_count": 22,
   "metadata": {},
   "outputs": [
    {
     "data": {
      "image/png": "[encoded data removed]",
      "text/plain": [
       "<matplotlib.figure.Figure at 0x10fbc8240>"
      ]
     },
     "metadata": {},
     "output_type": "display_data"
    }
   ],
   "source": [
    "phis = [len(coprime(n)) for n in range(2, 1024)]\n",
    "plt.plot(phis, '.')\n",
    "plt.title('number of coprimes', fontsize=16)\n",
    "plt.show()"
   ]
  },
  {
   "cell_type": "markdown",
   "metadata": {},
   "source": [
    "Hmm.. What's going on with some of those lines? There's some cool theorems laying dormant in there :)"
   ]
  },
  {
   "cell_type": "markdown",
   "metadata": {},
   "source": [
    "And what of the density on the number of coprimes? We'll leave out prime numbers for visual clarity."
   ]
  },
  {
   "cell_type": "code",
   "execution_count": 23,
   "metadata": {},
   "outputs": [
    {
     "data": {
      "image/png": "[encoded data removed]",
      "text/plain": [
       "<matplotlib.figure.Figure at 0x10fdbd198>"
      ]
     },
     "metadata": {},
     "output_type": "display_data"
    }
   ],
   "source": [
    "composite = [n for n in range(1, 256) if not is_prime_faster(n)]\n",
    "num_unique = [len(coprime(n))/n for n in composite]\n",
    "plt.plot(composite, num_unique)\n",
    "plt.yticks(np.arange(0, 1, 0.1))\n",
    "plt.title('density coprimes for composite', fontsize=16)\n",
    "plt.grid(True, alpha=0.5, axis='y')\n",
    "plt.show()"
   ]
  },
  {
   "cell_type": "markdown",
   "metadata": {
    "slideshow": {
     "slide_type": "slide"
    }
   },
   "source": [
    "# Congruency"
   ]
  },
  {
   "cell_type": "markdown",
   "metadata": {
    "slideshow": {
     "slide_type": "-"
    }
   },
   "source": [
    "We call two numbers congruent $a \\equiv b \\pmod n$, whenever $n \\mid b - a$.\n",
    "\n",
    "And it so happens we are use congruency all the time!\n",
    "\n",
    "For example:\n",
    "\n",
    "- When one says 1:00 PM, another might say 13:00. Together, they say $1 \\equiv 13 \\pmod{12}$.\n",
    "\n",
    "- A number $n$ is even whenever $n \\equiv 0 \\pmod 2$.\n",
    "\n",
    "- Piano keys rotate over the same notes in different ocaves.\n",
    "\n",
    "- Days of the week rotate over the same days (usually).\n",
    "\n",
    "- Checksums just calculate if two functions are congruent some modulus."
   ]
  },
  {
   "cell_type": "markdown",
   "metadata": {},
   "source": [
    "If $a \\equiv b \\pmod n$ we say that $b$ is a residue of $a$ modulus $n$.\n",
    "\n",
    "There's a \"class\" of numbers for every \"residue\". For modulus 2 we have two class of residues: $\\{\\ldots, -4, -2, 0, 2, 4, \\ldots\\}$, and $\\{\\ldots, -5, -3, -1, 1, 3, 5, \\ldots\\}$.\n",
    "\n",
    "We can choose a representative for each class. We choose the the smallest non-negative one, and call it the \"least residue\".\n",
    "\n",
    "The *complete* set of least residues for 8 would be $\\{0, 1, 2, 3, 4, 5, 6, 7\\}$."
   ]
  },
  {
   "cell_type": "markdown",
   "metadata": {
    "slideshow": {
     "slide_type": "slide"
    }
   },
   "source": [
    "While we're talking about congruency classes, is there a pattern in the prime residues for some modulus?"
   ]
  },
  {
   "cell_type": "code",
   "execution_count": 24,
   "metadata": {},
   "outputs": [
    {
     "name": "stdout",
     "output_type": "stream",
     "text": [
      "[3, 5, 1, 5, 1, 5, 1, 5, 5, 1]\n"
     ]
    }
   ],
   "source": [
    "print([n % 6 for n in range(2, 32) if is_prime_faster(n)])"
   ]
  },
  {
   "cell_type": "code",
   "execution_count": 25,
   "metadata": {},
   "outputs": [
    {
     "data": {
      "image/png": "[encoded data removed]",
      "text/plain": [
       "<matplotlib.figure.Figure at 0x10fe58438>"
      ]
     },
     "metadata": {},
     "output_type": "display_data"
    }
   ],
   "source": [
    "from collections import Counter\n",
    "\n",
    "def plot_residues(modulus):\n",
    "    residues = [n % modulus for n in range(2, 1000)\n",
    "                if is_prime_faster(n)]\n",
    "    \n",
    "    plt.hist(residues, bins=range(modulus+1), color='lightsalmon')\n",
    "    plt.xticks(np.array(range(modulus))+0.5, range(modulus))\n",
    "    plt.yticks([])\n",
    "    plt.xlabel('residue', fontsize=16)\n",
    "    plt.title('distribution of prime residues, modulus {}'.format(modulus),\n",
    "              fontsize=16)\n",
    "    plt.show()\n",
    "    \n",
    "plot_residues(6)"
   ]
  },
  {
   "cell_type": "code",
   "execution_count": 26,
   "metadata": {},
   "outputs": [
    {
     "data": {
      "image/png": "[encoded data removed]",
      "text/plain": [
       "<matplotlib.figure.Figure at 0x10fb9c9e8>"
      ]
     },
     "metadata": {},
     "output_type": "display_data"
    }
   ],
   "source": [
    "plot_residues(7)"
   ]
  },
  {
   "cell_type": "markdown",
   "metadata": {
    "slideshow": {
     "slide_type": "slide"
    }
   },
   "source": [
    "Hmm. Let's plot all the distributions together!"
   ]
  },
  {
   "cell_type": "code",
   "execution_count": 53,
   "metadata": {},
   "outputs": [
    {
     "data": {
      "image/png": "[encoded data removed]",
      "text/plain": [
       "<matplotlib.figure.Figure at 0x11007bd68>"
      ]
     },
     "metadata": {},
     "output_type": "display_data"
    }
   ],
   "source": [
    "def residue_dist(m, pad):\n",
    "    mods = Counter(n % m for n in range(2, 1000)\n",
    "                   if is_prime_faster(n))\n",
    "    return [mods[n] for n in range(m)] + [0]*(pad - m) \n",
    "\n",
    "m = 32\n",
    "plt.figure(figsize=(8,8))\n",
    "plt.imshow([residue_dist(a, m) for a in range(2, m)],\n",
    "           cmap='jet', interpolation='nearest')\n",
    "\n",
    "plt.yticks(range(m-2), range(2, m))\n",
    "plt.xticks(range(m))\n",
    "plt.ylabel('modulus', fontsize=16)\n",
    "plt.xlabel('residue', fontsize=16)\n",
    "plt.title('distribution of prime residue distributions', fontsize=16)\n",
    "plt.show()\n"
   ]
  },
  {
   "cell_type": "markdown",
   "metadata": {},
   "source": [
    "## Euler-Fermat Theorem"
   ]
  },
  {
   "cell_type": "markdown",
   "metadata": {
    "slideshow": {
     "slide_type": "slide"
    }
   },
   "source": [
    "If $\\gcd(k, n) = 1$ and $ka \\equiv ka^{\\prime} \\pmod n$, then $a \\equiv a^{\\prime} \\pmod {n}$.\n",
    "\n",
    "Why? Well, we have $n \\mid k(a - a^{\\prime})$. And by *Lemma 1*, we must have $n \\mid (a - a^{\\prime})$."
   ]
  },
  {
   "cell_type": "markdown",
   "metadata": {},
   "source": [
    "Suppose we have a complete set of residues prime to $n$, call that set $R$. This set $R$ has $\\varphi(n)$ residues.\n",
    "\n",
    "*Theorem 4* If we multiple every number in $R$ some $a$ with $\\gcd(a, n) = 1$ then $aR$ is a permuation of $R$. \n",
    "\n",
    "To show this, consider what would happen if some $ar_i \\equiv ar_j \\pmod n$. Then $n \\mid a(r_i - r_j)$. Since $\\gcd(a, n) = 1$, by *Lemma 1*, we must have $n \\mid (r_i - r_j)$ or $r_i \\equiv r_j \\pmod n$. And since our $r_i$ are distinct, we must have $r_i = r_j$ which together proves our theorem."
   ]
  },
  {
   "cell_type": "markdown",
   "metadata": {},
   "source": [
    "From this it of course follows that $\\prod ar \\equiv \\prod r \\pmod n$ or $a^{\\varphi(n)} \\prod r \\equiv \\prod r \\pmod n$. Since each $\\gcd(r, n) = 1$ by *Lemma 1* we have $a^{\\varphi(n)} \\equiv 1 \\pmod n$.\n",
    "\n",
    "*Theorem 5* For any $a$ with $\\gcd(a, n) = 1$, $a^{\\varphi(n)} \\equiv 1 \\pmod n$.\n",
    "\n",
    "*Corollary 6* For any prime $p$, $a^{p - 1} \\equiv 1 \\pmod p$ by *Lemma 3*."
   ]
  },
  {
   "cell_type": "code",
   "execution_count": 28,
   "metadata": {},
   "outputs": [
    {
     "data": {
      "text/plain": [
       "True"
      ]
     },
     "execution_count": 28,
     "metadata": {},
     "output_type": "execute_result"
    }
   ],
   "source": [
    "is_prime_faster(773)"
   ]
  },
  {
   "cell_type": "code",
   "execution_count": 29,
   "metadata": {},
   "outputs": [
    {
     "data": {
      "text/plain": [
       "True"
      ]
     },
     "execution_count": 29,
     "metadata": {},
     "output_type": "execute_result"
    }
   ],
   "source": [
    "all(pow(a, 772, 773) == 1 for a in range(1, 773))"
   ]
  },
  {
   "cell_type": "markdown",
   "metadata": {},
   "source": [
    "## Fermat primality test"
   ]
  },
  {
   "cell_type": "markdown",
   "metadata": {},
   "source": [
    "With this corollary, we can use the contrapositive to test if a number is prime!\n",
    "\n",
    "That is, if $n$ is prime then $a^{n - 1} \\equiv 1 \\pmod n$. So if $a^{n - 1} \\not\\equiv 1 \\pmod n$ the $n$ is certainly not prime.\n",
    "\n",
    "We can draw a random $a$. If $a \\mid n$ then clearly $n$ is not prime. Otherwise we test if $a^{n - 1} \\not\\equiv 1 \\pmod n$.\n",
    "\n",
    "That is, we can construct a \"Monte Carlo\" algorithm. One that is probably correct, but always fast. In contraposition to a \"Las Vegas\" algorithm which is always correct, but probably fast.\n",
    "\n",
    "Whenever we find some $a$, where $a^{n - 1} \\not\\equiv 1 \\pmod n$, we say that $a$ is a \"witness\" to $n$ being composite.\n",
    "\n",
    "If $a^{n - 1} \\equiv 1 \\pmod n$ and $n$ is actually prime, we call $a$ a \"liar\"."
   ]
  },
  {
   "cell_type": "code",
   "execution_count": 30,
   "metadata": {
    "collapsed": true
   },
   "outputs": [],
   "source": [
    "from random import randint\n",
    "\n",
    "def maybe_witness(n):\n",
    "    a = randint(2, n - 1)\n",
    "    return pow(a, n - 1, n) != 1"
   ]
  },
  {
   "cell_type": "code",
   "execution_count": 31,
   "metadata": {},
   "outputs": [
    {
     "data": {
      "text/plain": [
       "Counter({False: 5700, True: 4300})"
      ]
     },
     "execution_count": 31,
     "metadata": {},
     "output_type": "execute_result"
    }
   ],
   "source": [
    "Counter(maybe_witness(561) for _ in range(10**4))"
   ]
  },
  {
   "cell_type": "code",
   "execution_count": 32,
   "metadata": {},
   "outputs": [
    {
     "data": {
      "text/plain": [
       "False"
      ]
     },
     "execution_count": 32,
     "metadata": {},
     "output_type": "execute_result"
    }
   ],
   "source": [
    "is_prime_faster(561)"
   ]
  },
  {
   "cell_type": "markdown",
   "metadata": {},
   "source": [
    "However we are careful to note that the converse is not true, as demonstrated by the number $561$.\n",
    "\n",
    "$a^{n - 1} \\equiv 1 \\pmod n$, then $n$ isn't necessarily prime.\n",
    "\n",
    "Though, it was thought that the converse was true for a long time.\n",
    "\n",
    "But there are numbers called Carmichael numbers that have this property for all $a$ with $\\gcd(a, n) \\equiv 1 \\pmod n$."
   ]
  },
  {
   "cell_type": "code",
   "execution_count": 33,
   "metadata": {
    "collapsed": true
   },
   "outputs": [],
   "source": [
    "def is_carmichael(n):\n",
    "    return all(pow(a, n - 1, n) == 1 for a in coprime(n))"
   ]
  },
  {
   "cell_type": "code",
   "execution_count": 34,
   "metadata": {},
   "outputs": [
    {
     "data": {
      "text/plain": [
       "[561, 1105, 1729, 2465, 2821, 6601, 8911]"
      ]
     },
     "execution_count": 34,
     "metadata": {},
     "output_type": "execute_result"
    }
   ],
   "source": [
    "carmichaels = [\n",
    "    n for n in range(3, 10**4)\n",
    "    if not is_prime_faster(n) and is_carmichael(n)\n",
    "]\n",
    "carmichaels"
   ]
  },
  {
   "cell_type": "markdown",
   "metadata": {},
   "source": [
    "Hmm... What's the chance that we'll find a liar?\n",
    "\n",
    "With more time we could dive into this. But we'll need some algebra under our belts, and that's a discussion unto its own.\n",
    "\n",
    "To summarize it without going into the details, however, if we assume $n$ isn't a Carmichael number, then there is at least one witness.\n",
    "\n",
    "If there's at least one witness, then the group of liars forms a subgroup of $\\mathbb{Z}^*_n$. By Lagrange's theorem the order of a subgroup divides the group. By supposition this is a strict subgroup. And a corollary of that is that any strict subgroup is at most $1/2$ the size of the full group.\n",
    "\n",
    "There are 3 important take-aways:\n",
    "\n",
    "1. Fermat's test is susceptible to Carmichel numbers, if we never find an $a$ such that $\\gcd(a, n) > 1$.\n",
    "2. The probability of of finding a witness for a composite number is at least $1/2$."
   ]
  },
  {
   "cell_type": "markdown",
   "metadata": {},
   "source": [
    "So, to test if a number is prime with confidence $\\mathtt{conf}$, we have $1 - 2^{-t} = \\mathtt{conf}$, so that the number of trials necessary is $t = -\\log_2(1 - \\mathtt{conf})$ "
   ]
  },
  {
   "cell_type": "code",
   "execution_count": 35,
   "metadata": {
    "collapsed": true
   },
   "outputs": [],
   "source": [
    "from random import randint\n",
    "from math import log2\n",
    "\n",
    "def is_prime_fermat(n, trials):    \n",
    "    for _ in range(trials):\n",
    "        a = randint(2, n - 1)\n",
    "        if pow(a, n - 1, n) != 1:\n",
    "            return False\n",
    "        \n",
    "    return True"
   ]
  },
  {
   "cell_type": "code",
   "execution_count": 36,
   "metadata": {
    "collapsed": true
   },
   "outputs": [],
   "source": [
    "def fermat_trials(conf):\n",
    "    return -1 * log2(1 - conf)"
   ]
  },
  {
   "cell_type": "code",
   "execution_count": 37,
   "metadata": {},
   "outputs": [
    {
     "data": {
      "text/plain": [
       "19.93156856928269"
      ]
     },
     "execution_count": 37,
     "metadata": {},
     "output_type": "execute_result"
    }
   ],
   "source": [
    "fermat_trials(1 - 10**-6)"
   ]
  },
  {
   "cell_type": "code",
   "execution_count": 38,
   "metadata": {},
   "outputs": [
    {
     "data": {
      "image/png": "[encoded data removed]",
      "text/plain": [
       "<matplotlib.figure.Figure at 0x1101efb38>"
      ]
     },
     "metadata": {},
     "output_type": "display_data"
    }
   ],
   "source": [
    "confs = 1 - np.logspace(-12, -1, 100)\n",
    "trials = [fermat_trials(c) for c in confs]\n",
    "plt.plot(confs, trials, lw=4, color='black')\n",
    "plt.xlabel('confidence', fontsize=16)\n",
    "plt.ylabel('number of trials', fontsize=16)\n",
    "plt.show()"
   ]
  },
  {
   "cell_type": "code",
   "execution_count": 39,
   "metadata": {},
   "outputs": [
    {
     "data": {
      "text/plain": [
       "Counter({False: 879, True: 121})"
      ]
     },
     "execution_count": 39,
     "metadata": {},
     "output_type": "execute_result"
    }
   ],
   "source": [
    "Counter(is_prime_fermat(561, 4) for _ in range(1000))"
   ]
  },
  {
   "cell_type": "code",
   "execution_count": 40,
   "metadata": {},
   "outputs": [
    {
     "data": {
      "text/plain": [
       "Counter({False: 990, True: 10})"
      ]
     },
     "execution_count": 40,
     "metadata": {},
     "output_type": "execute_result"
    }
   ],
   "source": [
    "Counter(is_prime_fermat(561, 8) for _ in range(1000))"
   ]
  },
  {
   "cell_type": "code",
   "execution_count": 41,
   "metadata": {},
   "outputs": [
    {
     "data": {
      "text/plain": [
       "Counter({False: 999, True: 1})"
      ]
     },
     "execution_count": 41,
     "metadata": {},
     "output_type": "execute_result"
    }
   ],
   "source": [
    "Counter(is_prime_fermat(561, 16) for _ in range(1000))"
   ]
  },
  {
   "cell_type": "markdown",
   "metadata": {},
   "source": [
    "## Modular exponentiation"
   ]
  },
  {
   "cell_type": "markdown",
   "metadata": {},
   "source": [
    "Now, it turns out that modular powers are fast _and_ safe to compute!\n",
    "\n",
    "Consider some $a^k \\pmod n$. We can write $k$ in base $2$: $k = \\sum x_i 2^i$ where $x \\in \\{0, 1\\}$.\n",
    "\n",
    "In this way we multiply up from $i = 0$. We square whenever $x_i = 0$ and multiply by $a$ whenever $x_i = 1$.\n",
    "\n",
    "Or equivalently:"
   ]
  },
  {
   "cell_type": "code",
   "execution_count": 42,
   "metadata": {
    "collapsed": true
   },
   "outputs": [],
   "source": [
    "def mod_pow(a, k, n):\n",
    "    a = a % n\n",
    "    res = 1\n",
    "    \n",
    "    while k > 0:\n",
    "        if k % 2 == 1:\n",
    "            res *= a\n",
    "            res %= n\n",
    "\n",
    "        a = (a*a) % n\n",
    "        k //= 2\n",
    "\n",
    "    return res"
   ]
  },
  {
   "cell_type": "code",
   "execution_count": 43,
   "metadata": {},
   "outputs": [
    {
     "data": {
      "text/plain": [
       "438"
      ]
     },
     "execution_count": 43,
     "metadata": {},
     "output_type": "execute_result"
    }
   ],
   "source": [
    "mod_pow(13743, 32142348, 561)"
   ]
  },
  {
   "cell_type": "code",
   "execution_count": 44,
   "metadata": {},
   "outputs": [
    {
     "data": {
      "text/plain": [
       "438"
      ]
     },
     "execution_count": 44,
     "metadata": {},
     "output_type": "execute_result"
    }
   ],
   "source": [
    "pow(13743, 32142348, 561)"
   ]
  },
  {
   "cell_type": "markdown",
   "metadata": {},
   "source": [
    "We can see that this takes $\\Theta(\\log a)$ time :)"
   ]
  },
  {
   "cell_type": "markdown",
   "metadata": {},
   "source": [
    "## Strong pseudo-primes"
   ]
  },
  {
   "cell_type": "markdown",
   "metadata": {},
   "source": [
    "So about those pesky Carmichael numbers...\n",
    "\n",
    "It would be nice if we had a test, that wasn't \"susceptible\" to them.\n",
    "\n",
    "Well, there is!"
   ]
  },
  {
   "cell_type": "markdown",
   "metadata": {},
   "source": [
    "*Lemma 7* For prime $p$, the only solutions to $x^2 \\equiv 1 \\pmod p$ are $x \\pm 1$.\n",
    "\n",
    "If $x^2 \\equiv 1 \\pmod p$, then $p \\mid x^2 - 1$, and $x^2 - 1 = (x + 1)(x - 1)$. By *Lemma 1*, we have that $p \\mid (x - 1)$ or $p \\mid (x + 1)$. This proves the lemma."
   ]
  },
  {
   "cell_type": "markdown",
   "metadata": {},
   "source": [
    "Suppose $n$ is odd. If it's even then it's clearly not prime unless $n = 2$.\n",
    "\n",
    "Then we can factor $n - 1 = 2^r u$, where $u$ is odd. That is, \"we've factored out as many $2$'s as possible\"."
   ]
  },
  {
   "cell_type": "markdown",
   "metadata": {},
   "source": [
    "So, we start with $r = 0$, and have some $a \\equiv b \\pmod n$.\n",
    "\n",
    "If $b \\equiv -1$ or $b \\equiv 1$ then clearly future powers of $r$ will eventually result in a $1$.\n",
    "\n",
    "If we have some quadratic residue of $1$ not $1$ or $-1$, then by the contrapositive, $n$ isn't prime!"
   ]
  },
  {
   "cell_type": "code",
   "execution_count": 45,
   "metadata": {},
   "outputs": [
    {
     "data": {
      "text/plain": [
       "[5, 7, 11, 13, 17, 19, 23, 29, 31]"
      ]
     },
     "execution_count": 45,
     "metadata": {},
     "output_type": "execute_result"
    }
   ],
   "source": [
    "def is_prime_rabin_miller(n, trials):\n",
    "    if n == 2:\n",
    "        return True\n",
    "    \n",
    "    r, u = 0, n - 1\n",
    "    while u % 2 == 0:\n",
    "        u //= 2\n",
    "        r += 1\n",
    "        \n",
    "    for _ in range(trials):\n",
    "        a = randint(2, n - 1)\n",
    "        x = pow(a, u, n)\n",
    "        if x == 1 or x == n - 1:\n",
    "            continue\n",
    "        for _ in range(r - 1):\n",
    "            x = pow(x, 2, n)\n",
    "            if x == n - 1:\n",
    "                break\n",
    "            if x == 1:\n",
    "                return False\n",
    "        else:\n",
    "            return False\n",
    "        \n",
    "    return True\n",
    "\n",
    "[n for n in range(4, 32) if is_prime_rabin_miller(n, 8)]"
   ]
  },
  {
   "cell_type": "code",
   "execution_count": null,
   "metadata": {
    "collapsed": true
   },
   "outputs": [],
   "source": []
  }
 ],
 "metadata": {
  "kernelspec": {
   "display_name": "Python 3",
   "language": "python",
   "name": "python3"
  },
  "language_info": {
   "codemirror_mode": {
    "name": "ipython",
    "version": 3
   },
   "file_extension": ".py",
   "mimetype": "text/x-python",
   "name": "python",
   "nbconvert_exporter": "python",
   "pygments_lexer": "ipython3",
   "version": "3.6.3"
  }
 },
 "nbformat": 4,
 "nbformat_minor": 2
}
