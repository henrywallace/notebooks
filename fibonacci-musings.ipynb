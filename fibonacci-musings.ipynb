{
 "cells": [
  {
   "cell_type": "markdown",
   "metadata": {},
   "source": [
    "The Fibonacci sequence is defined by the recurrence $F_n = F_{n - 1} + F_{n - 2}$. We explore how this sequence behaves with different $F_0$, and $F_1$. Beyond the trivial $F_0, F_1 = 0$, we note that regardless of our choice for these two seeds, seemingly, $F_n/F_{n - 1} \\rightarrow 1.618 \\ldots$ as $n \\rightarrow \\infty$.\n",
    "\n",
    "Here, we define a function which will confirm that this tends to happen for random reals, say in the range $[-8, 8]$."
   ]
  },
  {
   "cell_type": "code",
   "execution_count": 1,
   "metadata": {},
   "outputs": [],
   "source": [
    "from functools import lru_cache  # to speed up computation\n",
    "\n",
    "@lru_cache(maxsize=None)\n",
    "def fib(n, f0, f1):\n",
    "    prev, curr = f0, f1\n",
    "    for _ in range(n):\n",
    "        prev, curr = curr, prev + curr\n",
    "    return prev\n",
    "\n",
    "# approximate the limit at step n\n",
    "def fib_lim(n, f0, f1):\n",
    "    return fib(n, f0, f1)/fib(n - 1, f0, f1)"
   ]
  },
  {
   "cell_type": "code",
   "execution_count": 2,
   "metadata": {},
   "outputs": [
    {
     "name": "stdout",
     "output_type": "stream",
     "text": [
      "       f0        f1    limit\n",
      "---------  --------  -------\n",
      "-1.82604   -4.14088  1.61803\n",
      "-6.1645     2.59453  1.61803\n",
      "-3.96252    1.12992  1.61803\n",
      "-2.18146    4.80843  1.61803\n",
      "-1.96105    5.83017  1.61803\n",
      "-7.30095   -2.39872  1.61803\n",
      "-0.424836   4.90962  1.61803\n",
      "-1.85648    4.9479   1.61803\n",
      "-1.57878    5.49927  1.61803\n",
      "-0.406386   5.49799  1.61803\n"
     ]
    }
   ],
   "source": [
    "from random import uniform\n",
    "from tabulate import tabulate\n",
    "\n",
    "data = []\n",
    "for _ in range(10):  # sample random choices for f0, f1\n",
    "    f0, f1 = uniform(-8, 8), uniform(-8, 8)\n",
    "    data.append([f0, f1, fib_lim(100, f0, f1)])\n",
    "                                     \n",
    "print(tabulate(data, headers=['f0', 'f1', 'limit']))"
   ]
  },
  {
   "cell_type": "markdown",
   "metadata": {
    "collapsed": true
   },
   "source": [
    "The following outlines why this is mostly true. Let $L_n$ denote this partial limit, $F_{n + 1}/F_n$. See that\n",
    "\n",
    "$$\n",
    "L_n = \\frac{F_{n} + F_{n - 1}}{F_n} = 1 + 1/L_{n - 1}\n",
    "$$\n",
    "\n",
    "If $L_n$ approaches some limit, then so does $L_{n - 1}$; call this limit $L$. Then $L^2 = L + 1$, which has the roots $\\frac{1 \\pm \\sqrt{5}}{2}$. The limit must tend to a positve number since as we assume the limit approaches some limit (not zero as we've just shown), then all the terms must be the same sign. Hence, $L = \\frac{1 + \\sqrt{5}}{2} = \\phi$.\n",
    "\n",
    "There are some choices of the seeds that do not converge to this limit however:"
   ]
  },
  {
   "cell_type": "code",
   "execution_count": 3,
   "metadata": {},
   "outputs": [
    {
     "name": "stdout",
     "output_type": "stream",
     "text": [
      "  f0         f1      limit\n",
      "----  ---------  ---------\n",
      "  -5   3.09017   -0.61808\n",
      "  -4   2.47214   -0.618109\n",
      "  -3   1.8541    -0.61806\n",
      "  -2   1.23607   -0.618109\n",
      "  -1   0.618034  -0.618109\n",
      "   1  -0.618034  -0.618109\n",
      "   2  -1.23607   -0.618109\n",
      "   3  -1.8541    -0.61806\n",
      "   4  -2.47214   -0.618109\n"
     ]
    }
   ],
   "source": [
    "from math import sqrt\n",
    "\n",
    "phi = (1 + sqrt(5))/2\n",
    "\n",
    "# W limit ourselves to 30 steps, here, for the sake of precision errors\n",
    "# We'll prove it more rigorously, shorlty.\n",
    "data = []\n",
    "for f0 in range(-5, 5):\n",
    "    if f0 == 0:\n",
    "        continue  # skip f0 == 0, for divide by 0 error\n",
    "    data.append([f0, -f0/phi, fib_lim(30, f0, -f0/phi)])\n",
    "    \n",
    "print(tabulate(data, headers=['f0', 'f1', 'limit']))"
   ]
  },
  {
   "cell_type": "markdown",
   "metadata": {},
   "source": [
    "To explore this suprise, first see that Fibonacci numbers form a vector space. That is, if $F_n$ and $G_n$ are Fibonacci sequences with different seeds, then $\\alpha \\cdot F_n + \\beta \\cdot G_n$ is also a Fibonacci sequence. This is because we can add two sequences, and scale sequences by a constant, and still get out a Fibonacci sequence.\n",
    "\n",
    "Also, see that a Fibonacci sequence is uniquely defined by it's seeds.\n",
    "\n",
    "Now, for a moment, let $F_n$ define the traditional $F_0, F_1 = 0, 1$ sequence. Also define $F^\\prime_n = F_{n - 1}$, with $F_{-1} = 0$. And let $x_n$ define a Fibonacci sequence of arbitrary seeds. Then,\n",
    "\n",
    "$$\n",
    "x_0 = x_0 \\cdot F^\\prime_{0} + x_1 \\cdot F_{0}\n",
    "$$\n",
    "\n",
    "and \n",
    "\n",
    "$$\n",
    "x_1 = x_1 \\cdot F^\\prime_{1} + x_1 \\cdot F_{1}\n",
    "$$\n",
    "\n",
    "It follows from the recurrence definition that\n",
    "\n",
    "$$x_n = x_0 \\cdot F^\\prime_n + x_1 \\cdot F_n$$\n",
    "\n",
    "Let's now replace $F^\\prime_n$ with $F_{n - 1}$, and look at the ratio $x_{n + 1}/x_n$:\n",
    "\n",
    "$$\\frac{x_0 \\cdot F_n + x_1 \\cdot F_{n + 1}}\n",
    "{x_0 \\cdot F_{n - 1} + x_1 \\cdot F_n}\n",
    "$$\n",
    "\n",
    "Dividing out $F_n$ yields\n",
    "\n",
    "$$\\frac{x_0 + x_1 \\cdot L_n}\n",
    "{x_0 \\cdot L_{n - 1}^{-1} + x_1}\n",
    "$$\n",
    "\n",
    "And we already have that $L_n \\rightarrow \\phi$ and $L_{n - 1} \\rightarrow \\phi$, so that \n",
    "\n",
    "$$x_n \\rightarrow \\frac{x_0 + x_1 \\phi}{x_0 \\phi^{-1} + x_1}\n",
    "$$\n",
    "\n",
    "which is $\\phi$ since its denominator, multiplied by $\\phi$, is the numerator.\n",
    "\n",
    "The only problem is when the denominator is 0, or $x_1 = -x_0/\\phi$ (see the most recent computation). In this case, it follows that $x_n = x_0 \\cdot \\phi^{-n}$, so that the limit is $1/\\phi$.\n",
    "\n",
    "In summary, Fibonacci sequences tend toward $\\phi$, unless $F_1 = -F_0/\\phi$, in which case the limit is $1/\\phi$."
   ]
  }
 ],
 "metadata": {
  "kernelspec": {
   "display_name": "Python 3",
   "language": "python",
   "name": "python3"
  },
  "language_info": {
   "codemirror_mode": {
    "name": "ipython",
    "version": 3
   },
   "file_extension": ".py",
   "mimetype": "text/x-python",
   "name": "python",
   "nbconvert_exporter": "python",
   "pygments_lexer": "ipython3",
   "version": "3.6.3"
  }
 },
 "nbformat": 4,
 "nbformat_minor": 1
}
